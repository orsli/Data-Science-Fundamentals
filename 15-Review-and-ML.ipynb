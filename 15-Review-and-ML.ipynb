{
  "cells": [
    {
      "cell_type": "markdown",
      "metadata": {
        "id": "view-in-github",
        "colab_type": "text"
      },
      "source": [
        "<a href=\"https://colab.research.google.com/github/orsli/Data-Science-Fundamentals/blob/main/15-Review-and-ML.ipynb\" target=\"_parent\"><img src=\"https://colab.research.google.com/assets/colab-badge.svg\" alt=\"Open In Colab\"/></a>"
      ]
    },
    {
      "cell_type": "markdown",
      "metadata": {
        "id": "i0B4fNelHOlO"
      },
      "source": [
        "## Data Science Fundamentals for DCBP - Final Lecture\n",
        "\n",
        "1. Course Review [16:15]\n",
        "2. Machine Learning Outlook [16:30]\n",
        "3. About the Grades and Feedback [17:00]\n",
        "4. Apero [17:15]\n",
        "\n",
        "University of Bern, 2023-05-24 PD Dr. S. Haug"
      ]
    },
    {
      "cell_type": "markdown",
      "metadata": {
        "id": "n_5oRe0SXilM"
      },
      "source": [
        "### 1 Course Review\n",
        "- Algorithms, computers, languages, Python, Jupyter notebooks\n",
        "- Basic Python\n",
        "- Data I/O with Pandas\n",
        "- Data Visualisation\n",
        "- Numpy, ODE, fitting, descriptive and inferential statistics\n",
        "- String processing, documentation of code\n",
        "- HPC and Linux\n",
        "- Image Processing\n",
        "- Basic statistics"
      ]
    },
    {
      "cell_type": "markdown",
      "metadata": {
        "id": "P9AbNUAav2oF"
      },
      "source": [
        "### Course Review - Alternative Representation\n",
        "- colab, jupyterhub/notebooks, text editors, github, Readme files\n",
        "- google.colab\n",
        "- numpy.*, pandas, mathplotlib.pyplot, seaborn, os, re, ...\n",
        "- scipy.integrate.odeint\n",
        "- scipy.optimize.curve_fit, symfit.fit\n",
        "- scipy.stats\n",
        "- Basic Linux commands\n",
        "- ssh, scp, slurm"
      ]
    },
    {
      "cell_type": "code",
      "source": [
        "\n",
        "\n",
        "import pandas as pd\n",
        "import matplotlib.pyplot as plt\n",
        "\n",
        "# List of numbers\n",
        "numbers = [5.0,5.5,6.0,5.0,5.5,6.0,5.5,6.0,5.5,5.0]\n",
        "\n",
        "# Create a dataframe\n",
        "df = pd.DataFrame({'Numbers': numbers})\n",
        "\n",
        "# Plotting the histogram\n",
        "plt.hist(df['Numbers'], bins=6, range=(3.5, 6.5), color='blue', edgecolor='black')\n",
        "\n",
        "# Adding labels and title\n",
        "plt.xlabel('Grades')\n",
        "plt.ylabel('Frequency')\n",
        "plt.title('DSF-DCBP Grade Distribution 2023')\n",
        "\n",
        "# Display the plot\n",
        "plt.show()\n"
      ],
      "metadata": {
        "id": "qZEAbPpeyJ0k",
        "outputId": "09a09c6f-9406-42e5-dd2a-bee07bc0ae4b",
        "colab": {
          "base_uri": "https://localhost:8080/",
          "height": 472
        }
      },
      "execution_count": 2,
      "outputs": [
        {
          "output_type": "display_data",
          "data": {
            "text/plain": [
              "<Figure size 640x480 with 1 Axes>"
            ],
            "image/png": "[encoded data removed]"
          },
          "metadata": {}
        }
      ]
    },
    {
      "cell_type": "markdown",
      "metadata": {
        "id": "xkSL59Sg7hmG"
      },
      "source": [
        "# Feedback on the course\n",
        "\n",
        "If you haven't done it already, please fill [this](https://docs.google.com/forms/d/e/1FAIpQLScULAjPM--yoYa7QjoLOT95rRp7wLct8as9WzjEdmVq6jt4WQ/viewform?usp=sf_link) form now (10 minutes).\n"
      ]
    },
    {
      "cell_type": "markdown",
      "metadata": {
        "id": "wkNfK9RyubTH"
      },
      "source": [
        "# Machine Learning (ML) Outlook\n"
      ]
    },
    {
      "cell_type": "markdown",
      "metadata": {
        "id": "ve-fq1w40Oct"
      },
      "source": [
        "Societal development may be seen as a process boosted by technological revolutions:\n",
        "\n",
        "* 10k BC    Agricultural/Neolithic\n",
        "* 1760-1840 Industrial\n",
        "* 1850-1900 Electromagnetic\n",
        "* 1960-2000 Information\n",
        "* 2000-     Biocognitive (gene design and artificial and extended intelligence)\n",
        "\n",
        "AI has a huge automatization potential (already happening). Humans are outsourcing cognitive (brain) tasks. The comprehensive impact on society is hard to foresee. Some scholars even talk about the end of humanity (singularity). When one talks about AI, one normally means machine learning algorithms."
      ]
    },
    {
      "cell_type": "markdown",
      "metadata": {
        "id": "XfniIVRlv2oG"
      },
      "source": [
        "## CNN and the Imagenet Challenge\n",
        "\n",
        "- 14M labeled images in 20k categories.\n",
        "\n",
        "- Since 2012 deep learning on GPU with convolutional neural networks is THE winning method. In 2012 it was AlexNet.\n",
        "\n",
        "<img src=\"https://encrypted-tbn0.gstatic.com/images?q=tbn:ANd9GcScB2UzvUExwJnxKMl-pYmy-pjmgHQ_YcrBYQLesyyfSw8ijwl31TMQnHKfUwEM1N-pTK0&usqp=CAU\" width=\"30%\"/>\n",
        "\n",
        "CNN are outperforming human image recognition in all fields (medicine, biology, surveillance ...)"
      ]
    },
    {
      "cell_type": "markdown",
      "metadata": {
        "id": "F1vEmMwhv2oH"
      },
      "source": [
        "## Genetic Engineering\n",
        "\n",
        "<img src=\"https://cdn.britannica.com/73/187373-050-1564B18E/salmon-age-ability-genomes-questions-animals.jpg\" width=\"30%\"/>"
      ]
    },
    {
      "cell_type": "markdown",
      "metadata": {
        "id": "JbJj-Lsgv2oH"
      },
      "source": [
        "## Natural Language Processing (NLP)\n",
        "\n",
        "- Transformers (GPT2/3, BERT, ...) can learn languages pretty well and generate speech and text\n",
        "- Since 2019 they are the state of the art NLP\n",
        "- Trained on billions of words (internet sources)\n",
        "- Models have billions of parameters\n",
        "\n",
        "Language is close to consciousness..."
      ]
    },
    {
      "cell_type": "markdown",
      "metadata": {
        "id": "T5JsvZ-bv2oH"
      },
      "source": [
        "## Reinforcement Learning\n",
        "\n",
        "- An agent experiences input (data) from the enivronment, trains a policy and decides on how to act on the environement.\n",
        "\n",
        "Walking robots, self-driving vehicles, go, chess, ..."
      ]
    },
    {
      "cell_type": "markdown",
      "metadata": {
        "id": "06JUNfAYv2oI"
      },
      "source": [
        "## Interesting (?) Questions\n",
        "\n",
        "- Do I need week AI for my research?\n",
        "- Will there be a strong AI one day?\n",
        "- Shall AI then become legal persons?\n",
        "- Will AI become intelligenter than humans?\n",
        "- Is singularity a real danger?"
      ]
    },
    {
      "cell_type": "markdown",
      "metadata": {
        "id": "qEVu2AHz0igO"
      },
      "source": [
        "\n",
        "In the scientific/data science process we are in the loops of this diagram here:\n",
        "<img src=\"https://github.com/sigvehaug/MLwPython/raw/master/figures/2013-sciencemethod.png\" width=\"60%\"/>\n",
        "\n",
        "In future the full process may be taken over by a (combination) of machine learning algorithms."
      ]
    },
    {
      "cell_type": "markdown",
      "metadata": {
        "id": "9SxiIczg1s1k"
      },
      "source": [
        "# What is ML?"
      ]
    },
    {
      "cell_type": "markdown",
      "metadata": {
        "id": "XtoqE5XO3L1j"
      },
      "source": [
        "Classical approach <img src=\"https://github.com/neworldemancer/DSF5/raw/master/figures/alg_1.png\" width=\"60%\"/>"
      ]
    },
    {
      "cell_type": "markdown",
      "metadata": {
        "id": "e2xIgm223vfa"
      },
      "source": [
        "ML approach:\n",
        "<img src=\"https://github.com/neworldemancer/DSF5/raw/master/figures/alg_2.png\" width=\"60%\"/>"
      ]
    },
    {
      "cell_type": "markdown",
      "metadata": {
        "id": "LvAyI1uzfBUT"
      },
      "source": [
        "A ML definition (Tom Mitchell 1998):\n",
        "\n",
        "\"A computer program is said to learn from experience E with respect to some class of tasks T and performance measure P, if its performance at tasks in T, as measured by P, improves with experience E.\"\n",
        "\n"
      ]
    },
    {
      "cell_type": "markdown",
      "metadata": {
        "id": "18P1PvfR-6CL"
      },
      "source": [
        "# ML Tasks\n",
        "\n"
      ]
    },
    {
      "cell_type": "markdown",
      "metadata": {
        "id": "waORW396_FjT"
      },
      "source": [
        "<img src=\"https://github.com/sigvehaug/MLwPython/raw/master/figures/ML-Categories.jpg\" width=\"60%\"/>"
      ]
    },
    {
      "cell_type": "markdown",
      "metadata": {
        "id": "70_dMCX340Rm"
      },
      "source": [
        "## Classification versus regression\n",
        "\n",
        "The two main tasks handled by (supervised) ML is regression and classification.\n",
        "In regression we aim at modeling the relationship between the system's response (dependent variable) and one or more explanatory variables (independent variables).\n",
        "\n",
        "Examples of regression would be predicting the temperature for each day of the year, or expenses of the household as a function of the number of children and adults.\n",
        "\n",
        "In classification the aim is to identify what class does a data-point belong to. For example, the species or the iris plant based on the size of its petals, or whether an email is spam or not based on its content.\n",
        "\n",
        "In this introduction we don't cover clustering and reinforcement learning.\n"
      ]
    },
    {
      "cell_type": "markdown",
      "metadata": {
        "id": "WpMikXghv2oJ"
      },
      "source": [
        "<img src=\"https://encrypted-tbn0.gstatic.com/images?q=tbn:ANd9GcScB2UzvUExwJnxKMl-pYmy-pjmgHQ_YcrBYQLesyyfSw8ijwl31TMQnHKfUwEM1N-pTK0&usqp=CAU\" width=\"60%\"/>"
      ]
    },
    {
      "cell_type": "markdown",
      "metadata": {
        "id": "l8n3ZHQkAlZB"
      },
      "source": [
        "\n",
        "## ML Algorithms\n",
        "\n",
        "ML researchers have designed, tested and implemented tens, hundreds, thousands of ML algorithms. Which one to choose depends on the task, the data and the cost (time, ethics, etc). When doing ML, one needs to briefly know the main categories, which tools/implementations to use and try a few algorithms, fine tune the best and bring it into production for ones task.\n",
        "\n",
        "There are some prominent ML libraries out there: **scikit-learn, TensorFlow, PyTorch**\n",
        "\n",
        "A way to get an overview is just to look at the list of implementations in scikit-learn: https://scikit-learn.org/stable/user_guide.html\n",
        "\n"
      ]
    },
    {
      "cell_type": "markdown",
      "metadata": {
        "id": "qBXGs0xRERuv"
      },
      "source": [
        "# ML Performance\n"
      ]
    },
    {
      "cell_type": "markdown",
      "metadata": {
        "id": "5bH2anQxFQVr"
      },
      "source": [
        "## Overfitting and underfitting\n",
        "\n",
        "When doing ML, the goal is to achieve a minimal bias and a minimal variance. In this case the generalisation will be optimal. Minimal bias and variance are related to under- and overfitting."
      ]
    },
    {
      "cell_type": "markdown",
      "metadata": {
        "id": "lNsD3FQS4JP7"
      },
      "source": [
        "<img src=\"https://github.com/neworldemancer/DSF5/raw/master/figures/Bias_variance_1.png\" width=\"35%\"/>\n",
        "\n",
        "<img src=\"https://github.com/neworldemancer/DSF5/raw/master/figures/Bias_variance_2.png\" width=\"60%\"/>"
      ]
    },
    {
      "cell_type": "markdown",
      "metadata": {
        "id": "QoONru7ji3QD"
      },
      "source": [
        "## Training and test data\n",
        "\n",
        "To measure model performance in an unbiassed way, we need to use different data than the data that the model was trained on. For this we use the 'train-test' split: e.g. 20% of all available dataset is reserved for model performance test, and the remaining 80% is used for actual model training."
      ]
    },
    {
      "cell_type": "markdown",
      "metadata": {
        "id": "wNmV5Z9QGQ_Q"
      },
      "source": [
        "## Performance Measures"
      ]
    },
    {
      "cell_type": "markdown",
      "metadata": {
        "id": "Lx37P09Vkepw"
      },
      "source": [
        "### Regression:\n",
        "* Mean Square Error: $\\textrm{MSE}=\\frac{1}{n}\\sum_i(y_i - \\hat y(\\bar x_i))^2$\n",
        "* Mean Absolute Error: $\\textrm{MAE}=\\frac{1}{n}\\sum_i|y_i - \\hat y(\\bar x_i)|$\n",
        "* Median Absolute Deviation: $\\textrm{MAD}=\\textrm{median}(|y_i - \\hat y(\\bar x_i)|)$\n",
        "* Fraction of the explained variance: $R^2=1-\\frac{\\sum_i(y_i - \\hat y(\\bar x_i))^2}{\\sum_i(y_i - \\bar y)^2}$, where $\\bar y=\\frac{1}{n}\\sum_i y_i$\n",
        "\n"
      ]
    },
    {
      "cell_type": "markdown",
      "metadata": {
        "id": "ZSH3blOw36jz"
      },
      "source": [
        "\n",
        "### Classification - Confusion Matrix\n",
        "<img src=\"https://github.com/neworldemancer/DSF5/raw/master/figures/confusion_mtr.png\" width=\"60%\"/>"
      ]
    },
    {
      "cell_type": "markdown",
      "metadata": {
        "id": "MK2gGVJyfdUJ"
      },
      "source": [
        "### Measures\n",
        "* Accuracy $=\\frac{\\textrm{TP} + \\textrm{TN}}{\\textrm{TP} + \\textrm{FP} + \\textrm{FN} + \\textrm{TN}}$\n",
        "* Precision $=\\frac{\\textrm{TP}}{\\textrm{TP} + \\textrm{FP}}$\n",
        "* Recall $=\\frac{\\textrm{TP}}{\\textrm{TP} + \\textrm{FN}}$\n",
        "* F1 $=2\\frac{\\textrm{Precision} \\cdot \\textrm{Recall}}{\\textrm{Precision} + \\textrm{Recall}} = \\frac{2 \\textrm{TP}}{2 \\textrm{TP} + \\textrm{FP} + \\textrm{FN}}$\n",
        "* Threat score (TS), or Intersection over Union: $\\mathrm{IoU}=\\frac{\\mathrm{TP}}{\\mathrm{TP}+\\mathrm{FN}+\\mathrm{FP}}$\n",
        "\n",
        "\n",
        "During model optimization the used measure in most cases must be differentiable. To this end usually some measure of similarities of distributions are employed (e.g. cross-entropy)."
      ]
    },
    {
      "cell_type": "markdown",
      "metadata": {
        "id": "XMN7ZVD0GbdO"
      },
      "source": [
        "# ML Data / Experience"
      ]
    },
    {
      "cell_type": "markdown",
      "metadata": {
        "id": "VVUV9pxXtVhZ"
      },
      "source": [
        "\n",
        "Data is any sequence of symbols. For the current ML tools (Python scikit-lear, tensorflow, etc) data must be in numbers in a table (dataframe), one, two, or higher dimensional (tensor). So any data, like images, videos, sound, text ... must be turned into a table before processeing it with ML. Cleaning and preprocessing data into these tables are the normally the most time consuming part in data science and ML projects.\n",
        "\n",
        "And, if your data is rubbish, the results will be rubbish, too."
      ]
    },
    {
      "cell_type": "markdown",
      "metadata": {
        "id": "ZyEP5G5xGycf"
      },
      "source": [
        "# An example - linear regression for house prices"
      ]
    },
    {
      "cell_type": "markdown",
      "metadata": {
        "id": "Hh6lII-Hz8u-"
      },
      "source": [
        "In many cases the scalar value of interest - dependent variable - is (or can be approximated as) linear combination of the independent variables.\n",
        "\n",
        "In linear regression the estimator is searched in the form: $$\\hat{y}(w, x) = w_0 + w_1 x_1 + ... + w_p x_p$$\n",
        "\n",
        "The parameters $w = (w_1,..., w_p)$ and $w_0$ are designated as `coef_` and `intercept_` in `sklearn`.\n",
        "\n",
        "Reference: https://scikit-learn.org/stable/modules/linear_model.html"
      ]
    },
    {
      "cell_type": "code",
      "execution_count": null,
      "metadata": {
        "id": "hVJn0ilgOS8F",
        "scrolled": true
      },
      "outputs": [],
      "source": [
        "\n",
        "from sklearn import linear_model\n",
        "from sklearn.model_selection import train_test_split\n",
        "from sklearn.ensemble import RandomForestRegressor\n",
        "\n",
        "# common visualization module\n",
        "from matplotlib import pyplot as plt\n",
        "\n",
        "# numeric module\n",
        "import numpy as np\n",
        "# data analysis module\n",
        "import pandas as pd\n",
        "\n",
        "%matplotlib inline"
      ]
    },
    {
      "cell_type": "markdown",
      "metadata": {
        "id": "A-45usskInlD"
      },
      "source": [
        "Subset of the Ames Houses dataset: http://jse.amstat.org/v19n3/decock.pdf"
      ]
    },
    {
      "cell_type": "code",
      "execution_count": null,
      "metadata": {
        "id": "dVv2ID96IyN0"
      },
      "outputs": [],
      "source": [
        "def house_prices_dataset(return_df=False, price_max=400000, area_max=40000):\n",
        "#  path = 'data/AmesHousing.csv'\n",
        "  path = 'https://raw.githubusercontent.com/sigvehaug/MLwPython/master/data/AmesHousing.csv'\n",
        "  df = pd.read_csv(path, na_values=('NaN', ''), keep_default_na=False)\n",
        "\n",
        "  # Clean up the column names\n",
        "  rename_dict = {k:k.replace(' ', '').replace('/', '') for k in df.keys()}\n",
        "  df.rename(columns=rename_dict, inplace=True)\n",
        "\n",
        "  # Select the columns to be used and make feature and target dataframe\n",
        "  useful_fields = ['LotArea',\n",
        "                  'Utilities', 'OverallQual', 'OverallCond',\n",
        "                  'YearBuilt', 'YearRemodAdd', 'ExterQual', 'ExterCond',\n",
        "                  'HeatingQC', 'CentralAir', 'Electrical',\n",
        "                  '1stFlrSF', '2ndFlrSF','GrLivArea',\n",
        "                  'FullBath', 'HalfBath',\n",
        "                  'BedroomAbvGr', 'KitchenAbvGr', 'KitchenQual', 'TotRmsAbvGrd',\n",
        "                  'Functional','PoolArea',\n",
        "                  'YrSold', 'MoSold'\n",
        "                  ]\n",
        "  target_field = 'SalePrice'\n",
        "\n",
        "  df.dropna(axis=0, subset=useful_fields+[target_field], inplace=True)\n",
        "\n",
        "  cleanup_nums = {'Street':      {'Grvl': 0, 'Pave': 1},\n",
        "                  'LotFrontage': {'NA':0},\n",
        "                  'Alley':       {'NA':0, 'Grvl': 1, 'Pave': 2},\n",
        "                  'LotShape':    {'IR3':0, 'IR2': 1, 'IR1': 2, 'Reg':3},\n",
        "                  'Utilities':   {'ELO':0, 'NoSeWa': 1, 'NoSewr': 2, 'AllPub': 3},\n",
        "                  'LandSlope':   {'Sev':0, 'Mod': 1, 'Gtl': 3},\n",
        "                  'ExterQual':   {'Po':0, 'Fa': 1, 'TA': 2, 'Gd': 3, 'Ex':4},\n",
        "                  'ExterCond':   {'Po':0, 'Fa': 1, 'TA': 2, 'Gd': 3, 'Ex':4},\n",
        "                  'BsmtQual':    {'NA':0, 'Po':1, 'Fa': 2, 'TA': 3, 'Gd': 4, 'Ex':5},\n",
        "                  'BsmtCond':    {'NA':0, 'Po':1, 'Fa': 2, 'TA': 3, 'Gd': 4, 'Ex':5},\n",
        "                  'BsmtExposure':{'NA':0, 'No':1, 'Mn': 2, 'Av': 3, 'Gd': 4},\n",
        "                  'BsmtFinType1':{'NA':0, 'Unf':1, 'LwQ': 2, 'Rec': 3, 'BLQ': 4, 'ALQ':5, 'GLQ':6},\n",
        "                  'BsmtFinType2':{'NA':0, 'Unf':1, 'LwQ': 2, 'Rec': 3, 'BLQ': 4, 'ALQ':5, 'GLQ':6},\n",
        "                  'HeatingQC':   {'Po':0, 'Fa': 1, 'TA': 2, 'Gd': 3, 'Ex':4},\n",
        "                  'CentralAir':  {'N':0, 'Y': 1},\n",
        "                  'Electrical':  {'':0, 'NA':0, 'Mix':1, 'FuseP':2, 'FuseF': 3, 'FuseA': 4, 'SBrkr': 5},\n",
        "                  'KitchenQual': {'Po':0, 'Fa': 1, 'TA': 2, 'Gd': 3, 'Ex':4},\n",
        "                  'Functional':  {'Sal':0, 'Sev':1, 'Maj2': 2, 'Maj1': 3, 'Mod': 4, 'Min2':5, 'Min1':6, 'Typ':7},\n",
        "                  'FireplaceQu': {'NA':0, 'Po':1, 'Fa': 2, 'TA': 3, 'Gd': 4, 'Ex':5},\n",
        "                  'PoolQC':      {'NA':0, 'Fa': 1, 'TA': 2, 'Gd': 3, 'Ex':4},\n",
        "                  'Fence':       {'NA':0, 'MnWw': 1, 'GdWo': 2, 'MnPrv': 3, 'GdPrv':4},\n",
        "                  }\n",
        "\n",
        "  df_X = df[useful_fields].copy()\n",
        "  df_X.replace(cleanup_nums, inplace=True)  # convert continous categorial variables to numerical\n",
        "  df_Y = df[target_field].copy()\n",
        "\n",
        "  # Convert to numpy arrays and return only rows with values below given maxima\n",
        "  x = df_X.to_numpy().astype(np.float32)\n",
        "  y = df_Y.to_numpy().astype(np.float32)\n",
        "\n",
        "  if price_max>0:\n",
        "    idxs = y<price_max\n",
        "    x = x[idxs]\n",
        "    y = y[idxs]\n",
        "\n",
        "  if area_max>0:\n",
        "    idxs = x[:,0]<area_max\n",
        "    x = x[idxs]\n",
        "    y = y[idxs]\n",
        "\n",
        "  return (x, y, df) if return_df else (x,y)"
      ]
    },
    {
      "cell_type": "code",
      "execution_count": null,
      "metadata": {
        "id": "YqWU0eHts1RM",
        "outputId": "c8c33ea5-7ce2-46d8-a71a-f7a8f0392ac3"
      },
      "outputs": [
        {
          "name": "stdout",
          "output_type": "stream",
          "text": [
            "(2847, 24) (2847,)\n"
          ]
        },
        {
          "data": {
            "text/html": [
              "<div>\n",
              "<style scoped>\n",
              "    .dataframe tbody tr th:only-of-type {\n",
              "        vertical-align: middle;\n",
              "    }\n",
              "\n",
              "    .dataframe tbody tr th {\n",
              "        vertical-align: top;\n",
              "    }\n",
              "\n",
              "    .dataframe thead th {\n",
              "        text-align: right;\n",
              "    }\n",
              "</style>\n",
              "<table border=\"1\" class=\"dataframe\">\n",
              "  <thead>\n",
              "    <tr style=\"text-align: right;\">\n",
              "      <th></th>\n",
              "      <th>Order</th>\n",
              "      <th>PID</th>\n",
              "      <th>MSSubClass</th>\n",
              "      <th>MSZoning</th>\n",
              "      <th>LotFrontage</th>\n",
              "      <th>LotArea</th>\n",
              "      <th>Street</th>\n",
              "      <th>Alley</th>\n",
              "      <th>LotShape</th>\n",
              "      <th>LandContour</th>\n",
              "      <th>...</th>\n",
              "      <th>PoolArea</th>\n",
              "      <th>PoolQC</th>\n",
              "      <th>Fence</th>\n",
              "      <th>MiscFeature</th>\n",
              "      <th>MiscVal</th>\n",
              "      <th>MoSold</th>\n",
              "      <th>YrSold</th>\n",
              "      <th>SaleType</th>\n",
              "      <th>SaleCondition</th>\n",
              "      <th>SalePrice</th>\n",
              "    </tr>\n",
              "  </thead>\n",
              "  <tbody>\n",
              "    <tr>\n",
              "      <th>0</th>\n",
              "      <td>1</td>\n",
              "      <td>526301100</td>\n",
              "      <td>20</td>\n",
              "      <td>RL</td>\n",
              "      <td>141.0</td>\n",
              "      <td>31770</td>\n",
              "      <td>Pave</td>\n",
              "      <td>NA</td>\n",
              "      <td>IR1</td>\n",
              "      <td>Lvl</td>\n",
              "      <td>...</td>\n",
              "      <td>0</td>\n",
              "      <td>NA</td>\n",
              "      <td>NA</td>\n",
              "      <td>NA</td>\n",
              "      <td>0</td>\n",
              "      <td>5</td>\n",
              "      <td>2010</td>\n",
              "      <td>WD</td>\n",
              "      <td>Normal</td>\n",
              "      <td>215000</td>\n",
              "    </tr>\n",
              "    <tr>\n",
              "      <th>1</th>\n",
              "      <td>2</td>\n",
              "      <td>526350040</td>\n",
              "      <td>20</td>\n",
              "      <td>RH</td>\n",
              "      <td>80.0</td>\n",
              "      <td>11622</td>\n",
              "      <td>Pave</td>\n",
              "      <td>NA</td>\n",
              "      <td>Reg</td>\n",
              "      <td>Lvl</td>\n",
              "      <td>...</td>\n",
              "      <td>0</td>\n",
              "      <td>NA</td>\n",
              "      <td>MnPrv</td>\n",
              "      <td>NA</td>\n",
              "      <td>0</td>\n",
              "      <td>6</td>\n",
              "      <td>2010</td>\n",
              "      <td>WD</td>\n",
              "      <td>Normal</td>\n",
              "      <td>105000</td>\n",
              "    </tr>\n",
              "    <tr>\n",
              "      <th>2</th>\n",
              "      <td>3</td>\n",
              "      <td>526351010</td>\n",
              "      <td>20</td>\n",
              "      <td>RL</td>\n",
              "      <td>81.0</td>\n",
              "      <td>14267</td>\n",
              "      <td>Pave</td>\n",
              "      <td>NA</td>\n",
              "      <td>IR1</td>\n",
              "      <td>Lvl</td>\n",
              "      <td>...</td>\n",
              "      <td>0</td>\n",
              "      <td>NA</td>\n",
              "      <td>NA</td>\n",
              "      <td>Gar2</td>\n",
              "      <td>12500</td>\n",
              "      <td>6</td>\n",
              "      <td>2010</td>\n",
              "      <td>WD</td>\n",
              "      <td>Normal</td>\n",
              "      <td>172000</td>\n",
              "    </tr>\n",
              "    <tr>\n",
              "      <th>3</th>\n",
              "      <td>4</td>\n",
              "      <td>526353030</td>\n",
              "      <td>20</td>\n",
              "      <td>RL</td>\n",
              "      <td>93.0</td>\n",
              "      <td>11160</td>\n",
              "      <td>Pave</td>\n",
              "      <td>NA</td>\n",
              "      <td>Reg</td>\n",
              "      <td>Lvl</td>\n",
              "      <td>...</td>\n",
              "      <td>0</td>\n",
              "      <td>NA</td>\n",
              "      <td>NA</td>\n",
              "      <td>NA</td>\n",
              "      <td>0</td>\n",
              "      <td>4</td>\n",
              "      <td>2010</td>\n",
              "      <td>WD</td>\n",
              "      <td>Normal</td>\n",
              "      <td>244000</td>\n",
              "    </tr>\n",
              "    <tr>\n",
              "      <th>4</th>\n",
              "      <td>5</td>\n",
              "      <td>527105010</td>\n",
              "      <td>60</td>\n",
              "      <td>RL</td>\n",
              "      <td>74.0</td>\n",
              "      <td>13830</td>\n",
              "      <td>Pave</td>\n",
              "      <td>NA</td>\n",
              "      <td>IR1</td>\n",
              "      <td>Lvl</td>\n",
              "      <td>...</td>\n",
              "      <td>0</td>\n",
              "      <td>NA</td>\n",
              "      <td>MnPrv</td>\n",
              "      <td>NA</td>\n",
              "      <td>0</td>\n",
              "      <td>3</td>\n",
              "      <td>2010</td>\n",
              "      <td>WD</td>\n",
              "      <td>Normal</td>\n",
              "      <td>189900</td>\n",
              "    </tr>\n",
              "  </tbody>\n",
              "</table>\n",
              "<p>5 rows × 82 columns</p>\n",
              "</div>"
            ],
            "text/plain": [
              "   Order        PID  MSSubClass MSZoning  LotFrontage  LotArea Street Alley  \\\n",
              "0      1  526301100          20       RL        141.0    31770   Pave    NA   \n",
              "1      2  526350040          20       RH         80.0    11622   Pave    NA   \n",
              "2      3  526351010          20       RL         81.0    14267   Pave    NA   \n",
              "3      4  526353030          20       RL         93.0    11160   Pave    NA   \n",
              "4      5  527105010          60       RL         74.0    13830   Pave    NA   \n",
              "\n",
              "  LotShape LandContour  ... PoolArea PoolQC  Fence MiscFeature MiscVal MoSold  \\\n",
              "0      IR1         Lvl  ...        0     NA     NA          NA       0      5   \n",
              "1      Reg         Lvl  ...        0     NA  MnPrv          NA       0      6   \n",
              "2      IR1         Lvl  ...        0     NA     NA        Gar2   12500      6   \n",
              "3      Reg         Lvl  ...        0     NA     NA          NA       0      4   \n",
              "4      IR1         Lvl  ...        0     NA  MnPrv          NA       0      3   \n",
              "\n",
              "  YrSold SaleType  SaleCondition  SalePrice  \n",
              "0   2010      WD          Normal     215000  \n",
              "1   2010      WD          Normal     105000  \n",
              "2   2010      WD          Normal     172000  \n",
              "3   2010      WD          Normal     244000  \n",
              "4   2010      WD          Normal     189900  \n",
              "\n",
              "[5 rows x 82 columns]"
            ]
          },
          "execution_count": 5,
          "metadata": {},
          "output_type": "execute_result"
        }
      ],
      "source": [
        "x, y, df = house_prices_dataset(return_df=True)\n",
        "print(x.shape, y.shape)\n",
        "df.head()"
      ]
    },
    {
      "cell_type": "code",
      "execution_count": null,
      "metadata": {
        "id": "91nj7znzMEpA",
        "outputId": "b20b0d7e-af8b-4e68-e842-05f2417f385b"
      },
      "outputs": [
        {
          "data": {
            "image/png": "[encoded data removed]",
            "text/plain": [
              "<Figure size 432x288 with 1 Axes>"
            ]
          },
          "metadata": {
            "needs_background": "light"
          },
          "output_type": "display_data"
        }
      ],
      "source": [
        "plt.plot(x[:, 0], y, '.r')\n",
        "plt.xlabel('Area / ft^2')\n",
        "plt.ylabel('Price / USD');"
      ]
    },
    {
      "cell_type": "markdown",
      "metadata": {
        "id": "RH4Zo2BA190T"
      },
      "source": [
        "## Train/fit the ML model"
      ]
    },
    {
      "cell_type": "code",
      "execution_count": null,
      "metadata": {
        "id": "p-Vpniu55wk5",
        "outputId": "a8f6d1c8-f0ac-4f56-f1c4-fe1a4dfedabe"
      },
      "outputs": [
        {
          "data": {
            "text/html": [
              "<style>#sk-container-id-3 {color: black;background-color: white;}#sk-container-id-3 pre{padding: 0;}#sk-container-id-3 div.sk-toggleable {background-color: white;}#sk-container-id-3 label.sk-toggleable__label {cursor: pointer;display: block;width: 100%;margin-bottom: 0;padding: 0.3em;box-sizing: border-box;text-align: center;}#sk-container-id-3 label.sk-toggleable__label-arrow:before {content: \"▸\";float: left;margin-right: 0.25em;color: #696969;}#sk-container-id-3 label.sk-toggleable__label-arrow:hover:before {color: black;}#sk-container-id-3 div.sk-estimator:hover label.sk-toggleable__label-arrow:before {color: black;}#sk-container-id-3 div.sk-toggleable__content {max-height: 0;max-width: 0;overflow: hidden;text-align: left;background-color: #f0f8ff;}#sk-container-id-3 div.sk-toggleable__content pre {margin: 0.2em;color: black;border-radius: 0.25em;background-color: #f0f8ff;}#sk-container-id-3 input.sk-toggleable__control:checked~div.sk-toggleable__content {max-height: 200px;max-width: 100%;overflow: auto;}#sk-container-id-3 input.sk-toggleable__control:checked~label.sk-toggleable__label-arrow:before {content: \"▾\";}#sk-container-id-3 div.sk-estimator input.sk-toggleable__control:checked~label.sk-toggleable__label {background-color: #d4ebff;}#sk-container-id-3 div.sk-label input.sk-toggleable__control:checked~label.sk-toggleable__label {background-color: #d4ebff;}#sk-container-id-3 input.sk-hidden--visually {border: 0;clip: rect(1px 1px 1px 1px);clip: rect(1px, 1px, 1px, 1px);height: 1px;margin: -1px;overflow: hidden;padding: 0;position: absolute;width: 1px;}#sk-container-id-3 div.sk-estimator {font-family: monospace;background-color: #f0f8ff;border: 1px dotted black;border-radius: 0.25em;box-sizing: border-box;margin-bottom: 0.5em;}#sk-container-id-3 div.sk-estimator:hover {background-color: #d4ebff;}#sk-container-id-3 div.sk-parallel-item::after {content: \"\";width: 100%;border-bottom: 1px solid gray;flex-grow: 1;}#sk-container-id-3 div.sk-label:hover label.sk-toggleable__label {background-color: #d4ebff;}#sk-container-id-3 div.sk-serial::before {content: \"\";position: absolute;border-left: 1px solid gray;box-sizing: border-box;top: 0;bottom: 0;left: 50%;z-index: 0;}#sk-container-id-3 div.sk-serial {display: flex;flex-direction: column;align-items: center;background-color: white;padding-right: 0.2em;padding-left: 0.2em;position: relative;}#sk-container-id-3 div.sk-item {position: relative;z-index: 1;}#sk-container-id-3 div.sk-parallel {display: flex;align-items: stretch;justify-content: center;background-color: white;position: relative;}#sk-container-id-3 div.sk-item::before, #sk-container-id-3 div.sk-parallel-item::before {content: \"\";position: absolute;border-left: 1px solid gray;box-sizing: border-box;top: 0;bottom: 0;left: 50%;z-index: -1;}#sk-container-id-3 div.sk-parallel-item {display: flex;flex-direction: column;z-index: 1;position: relative;background-color: white;}#sk-container-id-3 div.sk-parallel-item:first-child::after {align-self: flex-end;width: 50%;}#sk-container-id-3 div.sk-parallel-item:last-child::after {align-self: flex-start;width: 50%;}#sk-container-id-3 div.sk-parallel-item:only-child::after {width: 0;}#sk-container-id-3 div.sk-dashed-wrapped {border: 1px dashed gray;margin: 0 0.4em 0.5em 0.4em;box-sizing: border-box;padding-bottom: 0.4em;background-color: white;}#sk-container-id-3 div.sk-label label {font-family: monospace;font-weight: bold;display: inline-block;line-height: 1.2em;}#sk-container-id-3 div.sk-label-container {text-align: center;}#sk-container-id-3 div.sk-container {/* jupyter's `normalize.less` sets `[hidden] { display: none; }` but bootstrap.min.css set `[hidden] { display: none !important; }` so we also need the `!important` here to be able to override the default hidden behavior on the sphinx rendered scikit-learn.org. See: https://github.com/scikit-learn/scikit-learn/issues/21755 */display: inline-block !important;position: relative;}#sk-container-id-3 div.sk-text-repr-fallback {display: none;}</style><div id=\"sk-container-id-3\" class=\"sk-top-container\"><div class=\"sk-text-repr-fallback\"><pre>RandomForestRegressor(max_depth=5, random_state=0)</pre><b>In a Jupyter environment, please rerun this cell to show the HTML representation or trust the notebook. <br />On GitHub, the HTML representation is unable to render, please try loading this page with nbviewer.org.</b></div><div class=\"sk-container\" hidden><div class=\"sk-item\"><div class=\"sk-estimator sk-toggleable\"><input class=\"sk-toggleable__control sk-hidden--visually\" id=\"sk-estimator-id-3\" type=\"checkbox\" checked><label for=\"sk-estimator-id-3\" class=\"sk-toggleable__label sk-toggleable__label-arrow\">RandomForestRegressor</label><div class=\"sk-toggleable__content\"><pre>RandomForestRegressor(max_depth=5, random_state=0)</pre></div></div></div></div></div>"
            ],
            "text/plain": [
              "RandomForestRegressor(max_depth=5, random_state=0)"
            ]
          },
          "execution_count": 14,
          "metadata": {},
          "output_type": "execute_result"
        }
      ],
      "source": [
        "# Make train/test split\n",
        "x_train, x_test, y_train, y_test = train_test_split(x, y, test_size=0.2)\n",
        "\n",
        "# Fit the model\n",
        "#reg = linear_model.LinearRegression()\n",
        "reg = RandomForestRegressor(max_depth=5, random_state=0)\n",
        "reg.fit(x_train, y_train)"
      ]
    },
    {
      "cell_type": "markdown",
      "metadata": {
        "id": "r5FBnR9y50g0"
      },
      "source": [
        "## Evaluate and plot the results"
      ]
    },
    {
      "cell_type": "code",
      "execution_count": null,
      "metadata": {
        "id": "LvkIvxZk48y8",
        "outputId": "f4c6102c-99ab-4540-c5a3-d108f6898769"
      },
      "outputs": [
        {
          "name": "stdout",
          "output_type": "stream",
          "text": [
            "Train MSE = 23530.24\n",
            "Test MSE = 25163.59\n",
            "Train MAE = 17217.99\n",
            "Test MAE = 17947.59\n",
            "Train R2 =  0.87\n",
            "Test R2 =  0.85\n"
          ]
        },
        {
          "data": {
            "text/plain": [
              "[]"
            ]
          },
          "execution_count": 15,
          "metadata": {},
          "output_type": "execute_result"
        },
        {
          "data": {
            "image/png": "[encoded data removed]",
            "text/plain": [
              "<Figure size 720x720 with 1 Axes>"
            ]
          },
          "metadata": {
            "needs_background": "light"
          },
          "output_type": "display_data"
        }
      ],
      "source": [
        "# Evaluate MSE, MAD, and R2 on train and test datasets\n",
        "\n",
        "# Prediction:\n",
        "y_p_train = reg.predict(x_train)\n",
        "y_p_test = reg.predict(x_test)\n",
        "\n",
        "# mse\n",
        "print('Train MSE = %5.2f' % np.std(y_train - y_p_train))\n",
        "print('Test MSE = %5.2f' % np.std(y_test - y_p_test))\n",
        "# mse\n",
        "print('Train MAE = %5.2f' % np.mean(np.abs(y_train - y_p_train)))\n",
        "print('Test MAE = %5.2f' % np.mean(np.abs(y_test - y_p_test)))\n",
        "# R2\n",
        "print('Train R2 = %5.2f' % reg.score(x_train, y_train))\n",
        "print('Test R2 = %5.2f' % reg.score(x_test, y_test))\n",
        "\n",
        "# Plot y vs predicted y for test and train parts\n",
        "plt.figure(figsize=(10,10))\n",
        "plt.plot(y_train, y_p_train, 'b.', label='Train')\n",
        "plt.plot(y_test, y_p_test, 'r.', label='Test')\n",
        "\n",
        "plt.plot([0], [0], 'w.')  # dummy to have origin\n",
        "plt.xlabel('True Price / USD')\n",
        "plt.ylabel('Predicted Price / USD')\n",
        "#plt.gca().set_aspect('equal')\n",
        "plt.legend()\n",
        "plt.plot()"
      ]
    },
    {
      "cell_type": "markdown",
      "metadata": {
        "id": "bHEG6O15v2oP"
      },
      "source": [
        "# End of Machine Learning Outlook\n",
        "\n",
        "For sure some of you will do machine learning in your later research and work."
      ]
    },
    {
      "cell_type": "markdown",
      "metadata": {
        "id": "mfwM2zjxv2oQ"
      },
      "source": [
        "# Apero !"
      ]
    },
    {
      "cell_type": "code",
      "execution_count": null,
      "metadata": {
        "id": "KNC-tyMov2oQ"
      },
      "outputs": [],
      "source": []
    }
  ],
  "metadata": {
    "celltoolbar": "Slideshow",
    "colab": {
      "collapsed_sections": [
        "9SxiIczg1s1k",
        "pclZR6uFklf_",
        "8UQgU5I-lEll",
        "RHRXds9U9134",
        "K4qgOdz7Yyeb",
        "Vlf6_berQ1vq",
        "zI6s2Amob48j",
        "zZX9MQlORLfY",
        "AQ69XKdbZcA3"
      ],
      "name": "Course_1.ipynb",
      "provenance": [],
      "include_colab_link": true
    },
    "kernelspec": {
      "display_name": "Python 3",
      "language": "python",
      "name": "python3"
    },
    "language_info": {
      "codemirror_mode": {
        "name": "ipython",
        "version": 3
      },
      "file_extension": ".py",
      "mimetype": "text/x-python",
      "name": "python",
      "nbconvert_exporter": "python",
      "pygments_lexer": "ipython3",
      "version": "3.8.10"
    }
  },
  "nbformat": 4,
  "nbformat_minor": 0
}